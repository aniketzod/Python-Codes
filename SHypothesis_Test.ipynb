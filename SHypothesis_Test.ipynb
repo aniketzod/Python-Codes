{
  "cells": [
    {
      "cell_type": "code",
      "execution_count": 1,
      "metadata": {
        "id": "lUamWcSv9Iy7"
      },
      "outputs": [],
      "source": [
        "#import the libraries\n",
        "import pandas as pd \n",
        "import numpy as np\n",
        "from scipy import stats"
      ]
    },
    {
      "cell_type": "markdown",
      "metadata": {
        "id": "EZmTWLBk9IzE"
      },
      "source": [
        "# Super Market example"
      ]
    },
    {
      "cell_type": "code",
      "execution_count": 2,
      "metadata": {
        "colab": {
          "base_uri": "https://localhost:8080/"
        },
        "id": "EbPWfEp49IzF",
        "outputId": "3cce231b-9f5c-4351-d64a-4d67905318d8"
      },
      "outputs": [
        {
          "data": {
            "text/plain": [
              "0.014292908802574056"
            ]
          },
          "execution_count": 2,
          "metadata": {},
          "output_type": "execute_result"
        }
      ],
      "source": [
        "1-(stats.t.cdf(2.23,df=79))"
      ]
    },
    {
      "cell_type": "code",
      "execution_count": null,
      "metadata": {
        "colab": {
          "base_uri": "https://localhost:8080/"
        },
        "id": "ehACYK4BDsY-",
        "outputId": "6761ffd1-7207-4092-9a9d-937011b9b1b8"
      },
      "outputs": [
        {
          "name": "stdout",
          "output_type": "stream",
          "text": [
            "Rounded Value= 0.1678\n"
          ]
        }
      ],
      "source": []
    },
    {
      "cell_type": "markdown",
      "metadata": {
        "id": "1mULoszZ9IzG"
      },
      "source": [
        "# Call Center example"
      ]
    },
    {
      "cell_type": "code",
      "execution_count": null,
      "metadata": {
        "colab": {
          "base_uri": "https://localhost:8080/"
        },
        "id": "jd571TPa9IzH",
        "outputId": "929f881f-72f9-4052-a26e-aec62ccfc95b"
      },
      "outputs": [
        {
          "data": {
            "text/plain": [
              "1.4142135623730943"
            ]
          },
          "execution_count": 13,
          "metadata": {},
          "output_type": "execute_result"
        }
      ],
      "source": [
        "import numpy as np\n",
        "from scipy import stats\n",
        "\n",
        "t=(4.6-4)/(3/np.sqrt(50)) # t value for x bar=4.6, mu=4, s=3, n=50\n",
        "t"
      ]
    },
    {
      "cell_type": "code",
      "execution_count": null,
      "metadata": {
        "colab": {
          "base_uri": "https://localhost:8080/"
        },
        "id": "ccJtViUf9IzH",
        "outputId": "9c2e4a7c-d433-4cdb-c096-4822d102c8a8"
      },
      "outputs": [
        {
          "data": {
            "text/plain": [
              "0.1648559451804547"
            ]
          },
          "execution_count": 14,
          "metadata": {},
          "output_type": "execute_result"
        }
      ],
      "source": [
        "p=2*stats.t.cdf(-1.41,49)\n",
        "p"
      ]
    },
    {
      "cell_type": "markdown",
      "metadata": {
        "id": "X44BOLSY9IzI"
      },
      "source": [
        "# One tail test"
      ]
    },
    {
      "cell_type": "code",
      "execution_count": 3,
      "metadata": {
        "id": "5AdMc91m9IzJ"
      },
      "outputs": [],
      "source": [
        "# Ice-cream factory example\n",
        "import pandas as pd\n",
        "from scipy import stats\n",
        "\n",
        "data=pd.Series([0.593, 0.142, 0.329, 0.691, 0.231, 0.793, 0.519, 0.392, 0.418])"
      ]
    },
    {
      "cell_type": "code",
      "execution_count": null,
      "metadata": {
        "id": "CmvRzvyhGu4c"
      },
      "outputs": [],
      "source": [
        "data"
      ]
    },
    {
      "cell_type": "code",
      "execution_count": null,
      "metadata": {
        "colab": {
          "base_uri": "https://localhost:8080/"
        },
        "id": "U6G63lJCnnjV",
        "outputId": "a08ea39b-0e9c-4a7f-fa28-24355f3081ff"
      },
      "outputs": [
        {
          "data": {
            "text/plain": [
              "TtestResult(statistic=2.2050588385131595, pvalue=0.05853032968489765, df=8)"
            ]
          },
          "execution_count": 17,
          "metadata": {},
          "output_type": "execute_result"
        }
      ],
      "source": [
        "stats.ttest_1samp(data,0.3) # this command always gives you 2 tail p-value\n",
        "# t-value=2.2050588385131595 and pvalue=0.05853032968489765 here, p = p1+p2\n",
        "# index of t-value is 0 and p-value is 1 "
      ]
    },
    {
      "cell_type": "code",
      "execution_count": null,
      "metadata": {
        "colab": {
          "base_uri": "https://localhost:8080/"
        },
        "id": "BYRApn_AFU7w",
        "outputId": "23785fc3-bffa-4c7a-b248-1ef05099ec76"
      },
      "outputs": [
        {
          "data": {
            "text/plain": [
              "0.05853032968489765"
            ]
          },
          "execution_count": 20,
          "metadata": {},
          "output_type": "execute_result"
        }
      ],
      "source": [
        "\n",
        "p=stats.ttest_1samp(data,0.3)[1] # mu=0.3, index of p-value is 1, so [1] is given\n",
        "# pvalue=0.05853032968489765 here, p = p1+p2\n",
        "p"
      ]
    },
    {
      "cell_type": "code",
      "execution_count": null,
      "metadata": {
        "colab": {
          "base_uri": "https://localhost:8080/"
        },
        "id": "F7kKghKC9IzJ",
        "outputId": "ae52a4f4-6a8a-4217-bb07-278d8de4f057"
      },
      "outputs": [
        {
          "data": {
            "text/plain": [
              "0.029265164842448826"
            ]
          },
          "execution_count": 21,
          "metadata": {},
          "output_type": "execute_result"
        }
      ],
      "source": [
        "#As this is a one tail test p value so divide by 2 to get final p-value\n",
        "p_value= p/2\n",
        "p_value\n",
        "# Null Hypo. is Mu<=0.3, Alter. Hypo. is Mu>0.3, \n",
        "# Alfa = 0.05, P-value we got is 0.029 So p<alfa. So reject Null Hypo.\n",
        "# So go for Alt. Hypo.\n",
        "# interpret it: As mean value Mu >0.3 factory is causing problem."
      ]
    },
    {
      "cell_type": "markdown",
      "metadata": {
        "id": "OQcLaxKQ9IzK"
      },
      "source": [
        "# Two Tail test"
      ]
    },
    {
      "cell_type": "code",
      "execution_count": 4,
      "metadata": {
        "id": "2H86Jc5K9IzK"
      },
      "outputs": [],
      "source": [
        "# 2-Sample 2-tail test\n",
        "# comparing drugs - Control group and treatment group\n",
        "Control=pd.Series([91, 87, 99, 77, 88, 91])\n",
        "Treat =pd.Series([101, 110, 103, 93, 99, 104])  "
      ]
    },
    {
      "cell_type": "code",
      "execution_count": 5,
      "metadata": {
        "colab": {
          "base_uri": "https://localhost:8080/"
        },
        "id": "PRp0EbAK9IzK",
        "outputId": "d755850f-2a1c-4086-94a7-b588ab4c14c7"
      },
      "outputs": [
        {
          "data": {
            "text/plain": [
              "Ttest_indResult(statistic=-3.4456126735364876, pvalue=0.006272124350809803)"
            ]
          },
          "execution_count": 5,
          "metadata": {},
          "output_type": "execute_result"
        }
      ],
      "source": [
        "stats.ttest_ind(Control,Treat) # two tail independent\n",
        "# p=p1+p2. We are conducting 2 sample 2 tail test, so no need to divide p by 2.\n",
        "# p=0.006, alfa=0.05, p<alfa so reject null hypo. so accept alt. Hypo\n",
        "# interpretation: 2 responses are not equal so drug is working."
      ]
    },
    {
      "cell_type": "markdown",
      "metadata": {
        "id": "94BexGGD9IzL"
      },
      "source": [
        "# 2 Proportion Test"
      ]
    },
    {
      "cell_type": "code",
      "execution_count": null,
      "metadata": {
        "id": "zYXEJkmZ9IzL"
      },
      "outputs": [],
      "source": [
        "import numpy as np"
      ]
    },
    {
      "cell_type": "code",
      "execution_count": 6,
      "metadata": {
        "id": "6NHBJpRp9IzL"
      },
      "outputs": [],
      "source": [
        "#Data: Placement Data example\n",
        "\n",
        "n1 = 247\n",
        "p1 = .37 # proportion is 0.37\n",
        "\n",
        "n2 = 308\n",
        "p2 = .39 # proportion is 0.39"
      ]
    },
    {
      "cell_type": "code",
      "execution_count": 7,
      "metadata": {
        "id": "p5gM6Lar9IzM"
      },
      "outputs": [],
      "source": [
        "population1 = np.random.binomial(1,  p1, n1) # 1 - placed i.e. probability of success, 0-not placed\n",
        "population2 = np.random.binomial(1, p2, n2) # as its a random function every time you execute, you will get diff ans."
      ]
    },
    {
      "cell_type": "code",
      "execution_count": 8,
      "metadata": {
        "colab": {
          "base_uri": "https://localhost:8080/"
        },
        "id": "Txx65lYRP1O6",
        "outputId": "6cbc7cb1-c6c9-42bd-8927-bd1a510c0183"
      },
      "outputs": [
        {
          "data": {
            "text/plain": [
              "array([1, 0, 1, 1, 0, 1, 1, 0, 1, 0, 0, 0, 1, 0, 1, 0, 0, 0, 0, 0, 1, 0,\n",
              "       1, 1, 0, 0, 0, 0, 1, 0, 1, 1, 1, 1, 1, 0, 0, 0, 0, 1, 1, 0, 0, 0,\n",
              "       1, 1, 0, 0, 1, 1, 1, 0, 1, 0, 1, 0, 1, 0, 1, 0, 0, 1, 1, 1, 0, 1,\n",
              "       0, 0, 0, 1, 0, 0, 0, 0, 1, 0, 0, 0, 1, 1, 1, 0, 0, 1, 0, 0, 0, 0,\n",
              "       1, 1, 0, 0, 0, 0, 0, 0, 0, 0, 0, 0, 0, 0, 1, 0, 0, 0, 1, 1, 0, 1,\n",
              "       1, 0, 0, 1, 1, 1, 1, 0, 0, 0, 0, 1, 0, 0, 1, 0, 0, 0, 1, 0, 1, 1,\n",
              "       1, 0, 1, 0, 1, 0, 0, 1, 0, 1, 1, 0, 1, 0, 0, 1, 0, 0, 1, 1, 0, 0,\n",
              "       0, 0, 0, 1, 1, 0, 1, 1, 1, 0, 1, 0, 1, 0, 0, 1, 0, 1, 1, 1, 1, 1,\n",
              "       0, 1, 0, 0, 0, 0, 1, 1, 0, 1, 0, 0, 0, 0, 0, 0, 0, 0, 0, 0, 0, 0,\n",
              "       0, 0, 1, 0, 1, 1, 0, 0, 0, 1, 0, 1, 0, 0, 0, 0, 0, 0, 1, 0, 0, 1,\n",
              "       0, 0, 0, 0, 0, 0, 0, 0, 1, 0, 1, 0, 1, 0, 1, 0, 1, 0, 1, 0, 1, 1,\n",
              "       1, 0, 0, 1, 0])"
            ]
          },
          "execution_count": 8,
          "metadata": {},
          "output_type": "execute_result"
        }
      ],
      "source": [
        "population1 # 247 student's data. 0-not placed, 1-placed"
      ]
    },
    {
      "cell_type": "code",
      "execution_count": null,
      "metadata": {
        "id": "ikgv7zTZ9IzN"
      },
      "outputs": [],
      "source": [
        "population2"
      ]
    },
    {
      "cell_type": "code",
      "execution_count": null,
      "metadata": {
        "colab": {
          "base_uri": "https://localhost:8080/"
        },
        "id": "cOKI7ZtV9IzO",
        "outputId": "2d750eae-c9d0-4e4e-f483-f609c5f46b97"
      },
      "outputs": [
        {
          "data": {
            "text/plain": [
              "(-1.0103260635311295, 0.3127809514612838, 553.0)"
            ]
          },
          "execution_count": 28,
          "metadata": {},
          "output_type": "execute_result"
        }
      ],
      "source": [
        "import statsmodels.api as sm\n",
        "sm.stats.ttest_ind(population1, population2)# middle is the p-value\n",
        "# p>0.05 so accept null hypo.\n",
        "# interpretation: students are almost equally got placed in 2 states. \n",
        "# i.e. no significant difference in providing placement opportunities to students in 2 states. "
      ]
    },
    {
      "cell_type": "code",
      "execution_count": null,
      "metadata": {
        "colab": {
          "base_uri": "https://localhost:8080/"
        },
        "id": "lLaD7lEn9IzP",
        "outputId": "01c423b0-47ee-4886-fcc6-d36ea5cd816d"
      },
      "outputs": [
        {
          "name": "stdout",
          "output_type": "stream",
          "text": [
            "0.4636062828380557\n",
            "0.464\n",
            "Accept null hypothesis\n",
            "--------------------------\n"
          ]
        }
      ],
      "source": [
        "import statsmodels.api as sm\n",
        "\n",
        "a=0.05 # alpha\n",
        "\n",
        "population1 = np.random.binomial(1, p1, n1)\n",
        "population2 = np.random.binomial(1, p2, n2)\n",
        "\n",
        "p=sm.stats.ttest_ind(population1, population2)[1]\n",
        "print(p)\n",
        "print(round(p,3))\n",
        "if p>a:\n",
        "  print(f'Accept null hypothesis\\n--------------------------')\n",
        "else:\n",
        "  print(f'Failed to reject the null hypothesis\\n-------------------')"
      ]
    }
  ],
  "metadata": {
    "colab": {
      "provenance": []
    },
    "gpuClass": "standard",
    "kernelspec": {
      "display_name": "Python 3",
      "language": "python",
      "name": "python3"
    },
    "language_info": {
      "codemirror_mode": {
        "name": "ipython",
        "version": 3
      },
      "file_extension": ".py",
      "mimetype": "text/x-python",
      "name": "python",
      "nbconvert_exporter": "python",
      "pygments_lexer": "ipython3",
      "version": "3.7.4"
    }
  },
  "nbformat": 4,
  "nbformat_minor": 0
}
